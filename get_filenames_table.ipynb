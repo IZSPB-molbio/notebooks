{
 "cells": [
  {
   "cell_type": "markdown",
   "id": "f720a857",
   "metadata": {},
   "source": [
    "# Esportazione file metadati per invio a Icogen"
   ]
  },
  {
   "cell_type": "markdown",
   "id": "f1027b87",
   "metadata": {},
   "source": [
    "## IMPORTANTE"
   ]
  },
  {
   "cell_type": "markdown",
   "id": "234281ed",
   "metadata": {},
   "source": [
    "**Prima** di avviare il seguente notebook, assicurarsi di:\n",
    "\n",
    "- Aver effettuato l'esportazione per Icogen dal FileMakerDB\n",
    "- Aver copiato il file esportazione nella **stessa cartella** dei file fastq\n",
    "- **Indicare la cartella in formato YYMMDD nella casella sottostante (NON cancellare le virgolette!!!!)**\n",
    "- Avere i file fastq nominati come `COVID-<sample_name>_*`"
   ]
  },
  {
   "cell_type": "code",
   "execution_count": 44,
   "id": "b344d63a",
   "metadata": {},
   "outputs": [],
   "source": [
    "run_folder = \"F:Archivio genomi/211115\""
   ]
  },
  {
   "cell_type": "code",
   "execution_count": 45,
   "id": "b62d0105",
   "metadata": {},
   "outputs": [],
   "source": [
    "import os\n",
    "import glob"
   ]
  },
  {
   "cell_type": "markdown",
   "id": "c3293fb8",
   "metadata": {},
   "source": [
    "Ricavare liste di file R1 e file R2"
   ]
  },
  {
   "cell_type": "code",
   "execution_count": 46,
   "id": "9cb56219",
   "metadata": {},
   "outputs": [],
   "source": [
    "fastq_R1 = sorted(glob.glob(run_folder + \"/COVID*_R1*.fastq.gz\"))\n",
    "fastq_R2 = sorted(glob.glob(run_folder + \"/COVID*_R2*.fastq.gz\"))"
   ]
  },
  {
   "cell_type": "markdown",
   "id": "bb8640b0",
   "metadata": {},
   "source": [
    "Ricavare lista nomi campioni salvandola nel file **filenames_list.csv**, che sarà nella stessa cartella dei file fastq"
   ]
  },
  {
   "cell_type": "code",
   "execution_count": 49,
   "id": "f783840e",
   "metadata": {},
   "outputs": [
    {
     "name": "stdout",
     "output_type": "stream",
     "text": [
      "PT3869\n",
      "PT3870\n",
      "PT3872\n",
      "PT3873\n",
      "PT3874\n",
      "PT3875\n",
      "PT3876\n",
      "PT3877\n",
      "PT3878\n",
      "PT3879\n",
      "PT3880\n",
      "PT3973\n",
      "PT4037\n",
      "PT4038\n",
      "PT4039\n",
      "PT4040\n",
      "PT4041\n",
      "PT4042\n",
      "PT4043\n",
      "PT4044\n",
      "PT4046\n",
      "PT4049\n",
      "PT4050\n",
      "PT4051\n",
      "PT4052\n",
      "PT4054\n",
      "PT4056\n",
      "PT4057\n",
      "PT4058\n",
      "PT4060\n",
      "PT4061\n",
      "PT4129\n",
      "PT4130\n",
      "PT4131\n",
      "PT4132\n",
      "PT4133\n",
      "PT4134\n",
      "PT4135\n",
      "PT4137\n",
      "PT4138\n",
      "PT4139\n",
      "PT4140\n",
      "PT4152\n",
      "PT4153\n",
      "PT4154\n",
      "PT4155\n",
      "PT4156\n",
      "PT4157\n",
      "PT4158\n",
      "PT4159\n",
      "PT4160\n",
      "PT4161\n",
      "PT4162\n",
      "PT4164\n",
      "PT4165\n",
      "PT4166\n",
      "PT4185\n",
      "PT4186\n",
      "PT4187\n",
      "PT4188\n"
     ]
    }
   ],
   "source": [
    "filenames_file = open(os.path.join(run_folder, \"filenames_list.csv\"), 'w')\n",
    "\n",
    "for R1, R2 in zip(fastq_R1, fastq_R2):\n",
    "    #print(\"R1: \", R1)\n",
    "    #print(\"R2: \", R2)\n",
    "    sample_name = \"PT\" + os.path.split(R1)[1].split(\"_\")[0].split(\"-\")[1]\n",
    "    R1 = os.path.split(R1)[1]\n",
    "    R2 = os.path.split(R2)[1]\n",
    "    print(sample_name)\n",
    "    filenames_file.write(\",\".join([sample_name, R1, R2])+\"\\n\")\n",
    "\n",
    "filenames_file.close()\n",
    "\n",
    "#sample_names = [\"PT\" + os.path.split(i)[1].split(\"_\")[0].split(\"-\")[1] for i in fastq_R1]\n",
    "#sample_names"
   ]
  }
 ],
 "metadata": {
  "kernelspec": {
   "display_name": "Python 3 (ipykernel)",
   "language": "python",
   "name": "python3"
  },
  "language_info": {
   "codemirror_mode": {
    "name": "ipython",
    "version": 3
   },
   "file_extension": ".py",
   "mimetype": "text/x-python",
   "name": "python",
   "nbconvert_exporter": "python",
   "pygments_lexer": "ipython3",
   "version": "3.9.7"
  }
 },
 "nbformat": 4,
 "nbformat_minor": 5
}
